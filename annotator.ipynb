{
 "cells": [
  {
   "cell_type": "markdown",
   "metadata": {},
   "source": [
    "# Annotator\n",
    "\n",
    "### important:\n",
    "Requires python env with python >= 10!\n",
    "\n",
    "The purpose of this script is to annotate images of drones for finetuning yolo.\n",
    "\n",
    "This involeves the following steps:\n",
    "- read raw images\n",
    "- detect drones\n",
    "- extract the most probable bounding box (if any)\n",
    "- write the input image to output/images and the labels in yolo format in output/labels"
   ]
  },
  {
   "cell_type": "code",
   "execution_count": null,
   "metadata": {},
   "outputs": [
    {
     "ename": "",
     "evalue": "",
     "output_type": "error",
     "traceback": [
      "\u001b[1;31mRunning cells with 'Python 3.12.3' requires the ipykernel package.\n",
      "\u001b[1;31mRun the following command to install 'ipykernel' into the Python environment. \n",
      "\u001b[1;31mCommand: '/opt/homebrew/bin/python3 -m pip install ipykernel -U --user --force-reinstall'"
     ]
    }
   ],
   "source": [
    "# dependencies\n",
    "\n",
    "!pip install autodistill autodistill-yolov5 autodistill-grounding-dino supervision opencv-python"
   ]
  },
  {
   "cell_type": "code",
   "execution_count": null,
   "metadata": {},
   "outputs": [
    {
     "ename": "",
     "evalue": "",
     "output_type": "error",
     "traceback": [
      "\u001b[1;31mRunning cells with 'Python 3.12.3' requires the ipykernel package.\n",
      "\u001b[1;31mRun the following command to install 'ipykernel' into the Python environment. \n",
      "\u001b[1;31mCommand: '/opt/homebrew/bin/python3 -m pip install ipykernel -U --user --force-reinstall'"
     ]
    }
   ],
   "source": [
    "# imports\n",
    "\n",
    "import os\n",
    "import numpy as np\n",
    "import cv2\n",
    "import supervision as sv\n",
    "\n",
    "from pathlib import Path\n",
    "from autodistill_grounding_dino import GroundingDINO\n",
    "from autodistill.detection import CaptionOntology"
   ]
  },
  {
   "cell_type": "code",
   "execution_count": null,
   "metadata": {},
   "outputs": [
    {
     "ename": "",
     "evalue": "",
     "output_type": "error",
     "traceback": [
      "\u001b[1;31mRunning cells with 'Python 3.12.3' requires the ipykernel package.\n",
      "\u001b[1;31mRun the following command to install 'ipykernel' into the Python environment. \n",
      "\u001b[1;31mCommand: '/opt/homebrew/bin/python3 -m pip install ipykernel -U --user --force-reinstall'"
     ]
    }
   ],
   "source": [
    "# model hyperparameters\n",
    "\n",
    "BOX_THRESHOLD = 0.7\n",
    "TEXT_THRESHOLD = 0.5"
   ]
  },
  {
   "cell_type": "code",
   "execution_count": null,
   "metadata": {},
   "outputs": [
    {
     "ename": "",
     "evalue": "",
     "output_type": "error",
     "traceback": [
      "\u001b[1;31mRunning cells with 'Python 3.12.3' requires the ipykernel package.\n",
      "\u001b[1;31mRun the following command to install 'ipykernel' into the Python environment. \n",
      "\u001b[1;31mCommand: '/opt/homebrew/bin/python3 -m pip install ipykernel -U --user --force-reinstall'"
     ]
    }
   ],
   "source": [
    "# init model\n",
    "\n",
    "base_model = GroundingDINO(\n",
    "    ontology=CaptionOntology({\"drone\": \"drone\"}), \n",
    "    box_threshold=BOX_THRESHOLD, \n",
    "    text_threshold=TEXT_THRESHOLD\n",
    ")"
   ]
  },
  {
   "cell_type": "code",
   "execution_count": null,
   "metadata": {},
   "outputs": [
    {
     "ename": "",
     "evalue": "",
     "output_type": "error",
     "traceback": [
      "\u001b[1;31mRunning cells with 'Python 3.12.3' requires the ipykernel package.\n",
      "\u001b[1;31mRun the following command to install 'ipykernel' into the Python environment. \n",
      "\u001b[1;31mCommand: '/opt/homebrew/bin/python3 -m pip install ipykernel -U --user --force-reinstall'"
     ]
    }
   ],
   "source": [
    "# input images\n",
    "\n",
    "IMG_DIR = \"input/images\"\n",
    "imgs_paths = [os.path.join(IMG_DIR, img) for img in os.listdir(IMG_DIR)]\n",
    "imgs_paths"
   ]
  },
  {
   "cell_type": "code",
   "execution_count": null,
   "metadata": {},
   "outputs": [
    {
     "ename": "",
     "evalue": "",
     "output_type": "error",
     "traceback": [
      "\u001b[1;31mRunning cells with 'Python 3.12.3' requires the ipykernel package.\n",
      "\u001b[1;31mRun the following command to install 'ipykernel' into the Python environment. \n",
      "\u001b[1;31mCommand: '/opt/homebrew/bin/python3 -m pip install ipykernel -U --user --force-reinstall'"
     ]
    }
   ],
   "source": [
    "\n",
    "# Directories for saving outputs\n",
    "output_orig_image_dir = Path('output/images')\n",
    "output_annotated_image_dir = Path('output/annotated_images')\n",
    "output_label_dir = Path('output/labels')\n",
    "\n",
    "# Create directories if they don't exist\n",
    "output_orig_image_dir.mkdir(parents=True, exist_ok=True)\n",
    "output_annotated_image_dir.mkdir(parents=True, exist_ok=True)\n",
    "output_label_dir.mkdir(parents=True, exist_ok=True)"
   ]
  },
  {
   "cell_type": "code",
   "execution_count": null,
   "metadata": {},
   "outputs": [
    {
     "ename": "",
     "evalue": "",
     "output_type": "error",
     "traceback": [
      "\u001b[1;31mRunning cells with 'Python 3.12.3' requires the ipykernel package.\n",
      "\u001b[1;31mRun the following command to install 'ipykernel' into the Python environment. \n",
      "\u001b[1;31mCommand: '/opt/homebrew/bin/python3 -m pip install ipykernel -U --user --force-reinstall'"
     ]
    }
   ],
   "source": [
    "# Process each image\n",
    "\n",
    "for img in imgs_paths:\n",
    "    img_path = Path(img)  # Convert img to Path object\n",
    "    predictions = base_model.predict(str(img_path))\n",
    "\n",
    "    if len(predictions.xyxy) > 0:  # Proceed only if there are predictions (drones detected)\n",
    "        image = cv2.imread(str(img_path))\n",
    "\n",
    "        # Save the original image\n",
    "        output_orig_image_path = output_orig_image_dir / f\"{img_path.stem}_orig.png\"\n",
    "        cv2.imwrite(str(output_orig_image_path), image)\n",
    "\n",
    "        # Find the index of the prediction with the highest confidence\n",
    "        highest_confidence_index = np.argmax(predictions.confidence)\n",
    "\n",
    "        # Extract the bounding box with the highest confidence\n",
    "        x1, y1, x2, y2 = predictions.xyxy[highest_confidence_index]\n",
    "        confidence = predictions.confidence[highest_confidence_index]\n",
    "\n",
    "        # Create a Detections object with only the highest confidence box\n",
    "        detections = sv.Detections(\n",
    "            xyxy=np.array([[x1, y1, x2, y2]], dtype=float),  # Bounding box coordinates as floats\n",
    "            confidence=np.array([confidence], dtype=float),  # Confidence score as float\n",
    "            class_id=np.array([0], dtype=int)  # Assuming class_id for drone is 0\n",
    "        )\n",
    "\n",
    "        # Annotate the image\n",
    "        box_annotator = sv.BoxAnnotator()\n",
    "        labels = [f\"drone {confidence:0.2f}\"]\n",
    "        annotated_image = box_annotator.annotate(scene=image, detections=detections, labels=labels)\n",
    "\n",
    "        # Save the annotated image\n",
    "        output_annotated_image_path = output_annotated_image_dir / f\"{img_path.stem}_annotated.png\"\n",
    "        cv2.imwrite(str(output_annotated_image_path), annotated_image)\n",
    "\n",
    "        # Extract bounding box and save it to a text file in YOLO format\n",
    "        output_label_path = output_label_dir / f\"{img_path.stem}.txt\"\n",
    "        with open(output_label_path, 'w') as f:\n",
    "            # Calculate center, width, and height\n",
    "            x_center = (x1 + x2) / 2\n",
    "            y_center = (y1 + y2) / 2\n",
    "            width = x2 - x1\n",
    "            height = y2 - y1\n",
    "\n",
    "            # YOLO format: class_id x_center y_center width height\n",
    "            class_id = 0  # Assuming class_id for drone is 0\n",
    "\n",
    "            # Normalize the values by the image size (to be used by YOLO)\n",
    "            img_height, img_width = image.shape[:2]\n",
    "            x_center /= img_width\n",
    "            y_center /= img_height\n",
    "            width /= img_width\n",
    "            height /= img_height\n",
    "\n",
    "            # Write to the label file\n",
    "            f.write(f\"{class_id} {x_center} {y_center} {width} {height}\\n\")"
   ]
  }
 ],
 "metadata": {
  "kernelspec": {
   "display_name": "Python 3",
   "language": "python",
   "name": "python3"
  },
  "language_info": {
   "codemirror_mode": {
    "name": "ipython",
    "version": 3
   },
   "file_extension": ".py",
   "mimetype": "text/x-python",
   "name": "python",
   "nbconvert_exporter": "python",
   "pygments_lexer": "ipython3",
   "version": "3.12.3"
  }
 },
 "nbformat": 4,
 "nbformat_minor": 2
}
