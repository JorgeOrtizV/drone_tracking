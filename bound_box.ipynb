{
 "cells": [
  {
   "cell_type": "markdown",
   "metadata": {},
   "source": [
    "# Extract bbox\n",
    "\n",
    "The purpose of this script is to draw a bounding box on each white-backgrounded image from simulation.\n",
    "\n",
    "This involves the following steps:\n",
    "- Extract all bboxes\n",
    "- Keep image only if 1 bbox\n",
    "- Save image and bbox in yolo format in separate folders\n",
    "\n",
    "To use the data drag it to your training folder."
   ]
  },
  {
   "cell_type": "code",
   "execution_count": 13,
   "metadata": {},
   "outputs": [],
   "source": [
    "# imports\n",
    "\n",
    "import cv2\n",
    "import shutil\n",
    "import os\n",
    "import matplotlib.pyplot as plt"
   ]
  },
  {
   "cell_type": "code",
   "execution_count": 16,
   "metadata": {},
   "outputs": [],
   "source": [
    "# create output folders\n",
    "\n",
    "if os.path.exists('output'):\n",
    "    shutil.rmtree('output')\n",
    "\n",
    "os.makedirs('output/images', exist_ok=True)\n",
    "os.makedirs('output/labels', exist_ok=True)"
   ]
  },
  {
   "cell_type": "markdown",
   "metadata": {},
   "source": [
    "### Functions"
   ]
  },
  {
   "cell_type": "code",
   "execution_count": 17,
   "metadata": {},
   "outputs": [],
   "source": [
    "def preprocess_image(image):\n",
    "    \"\"\"\n",
    "    Preprocess the image (grayscale conversion and thresholding).\n",
    "    \"\"\"\n",
    "    gray = cv2.cvtColor(image, cv2.COLOR_BGR2GRAY)\n",
    "    _, thresh = cv2.threshold(gray, 240, 255, cv2.THRESH_BINARY_INV)  # Threshold to create a binary image\n",
    "    return thresh\n",
    "\n",
    "def find_contours(thresh_image):\n",
    "    \"\"\"\n",
    "    Find contours in the thresholded image.\n",
    "    \"\"\"\n",
    "    contours, _ = cv2.findContours(thresh_image, cv2.RETR_EXTERNAL, cv2.CHAIN_APPROX_SIMPLE)\n",
    "    return contours\n",
    "\n",
    "def extract_yolo_bbox(contour, img_width, img_height):\n",
    "    \"\"\"\n",
    "    Extract a single YOLO bounding box (for exactly one contour).\n",
    "    \"\"\"\n",
    "    x, y, w, h = cv2.boundingRect(contour)\n",
    "\n",
    "    # YOLO format values\n",
    "    x_center = (x + w / 2) / img_width   # Normalized x center\n",
    "    y_center = (y + h / 2) / img_height  # Normalized y center\n",
    "    width = w / img_width                # Normalized width\n",
    "    height = h / img_height              # Normalized height\n",
    "\n",
    "    return (x, y, w, h, x_center, y_center, width, height)\n",
    "\n",
    "def draw_bbox_on_image(image, bbox):\n",
    "    \"\"\"\n",
    "    Draw bounding box on the image.\n",
    "    \"\"\"\n",
    "    x, y, w, h = bbox[:4]\n",
    "    cv2.rectangle(image, (x, y), (x + w, y + h), (0, 255, 0), 2)  # draw rectangle\n",
    "    return image\n",
    "\n",
    "def display_image(image):\n",
    "    \"\"\"\n",
    "    Display the image using matplotlib.\n",
    "    \"\"\"\n",
    "    plt.imshow(cv2.cvtColor(image, cv2.COLOR_BGR2RGB))  \n",
    "    plt.axis('off')  \n",
    "    plt.show()\n",
    "\n",
    "def process_images_in_folder(folder_path):\n",
    "    \"\"\"\n",
    "    Process all images in the folder and only process images with exactly one contour.\n",
    "    \"\"\"\n",
    "    image_paths = [os.path.join(folder_path, img) for img in os.listdir(folder_path) if img.endswith(\".jpg\") or img.endswith(\".png\")]\n",
    "\n",
    "    for image_path in image_paths:\n",
    "        image = cv2.imread(image_path)\n",
    "        if image is None:\n",
    "            print(f\"Unable to read image: {image_path}\")\n",
    "            continue\n",
    "        \n",
    "        # pipeline\n",
    "        img_height, img_width = image.shape[:2]\n",
    "        thresh_image = preprocess_image(image)\n",
    "        contours = find_contours(thresh_image)\n",
    "        if len(contours) == 0:\n",
    "            print(f\"No contours found in image: {os.path.basename(image_path)}\")\n",
    "            continue\n",
    "        largest_contour = max(contours, key=cv2.contourArea)\n",
    "        bbox = extract_yolo_bbox(largest_contour, img_width, img_height)\n",
    "\n",
    "        # display\n",
    "        print(f\"Image: {os.path.basename(image_path)}\")\n",
    "        image_with_bbox = draw_bbox_on_image(image, bbox)\n",
    "        display_image(image_with_bbox)\n",
    "\n",
    "        # save\n",
    "\n",
    "        image_save_path = os.path.join('output/images', os.path.basename(image_path))\n",
    "        os.makedirs('output/images', exist_ok=True)\n",
    "        cv2.imwrite(image_save_path, image_with_bbox)\n",
    "\n",
    "        label_save_path = os.path.join('output/labels', os.path.splitext(os.path.basename(image_path))[0] + '.txt')\n",
    "        with open(label_save_path, 'w') as f:\n",
    "            class_id = 0  \n",
    "            x_center, y_center, width, height = bbox[4:]\n",
    "            f.write(f\"{class_id} {x_center:.6f} {y_center:.6f} {width:.6f} {height:.6f}\\n\")"
   ]
  },
  {
   "cell_type": "markdown",
   "metadata": {},
   "source": [
    "### Process images"
   ]
  },
  {
   "cell_type": "code",
   "execution_count": 18,
   "metadata": {},
   "outputs": [
    {
     "name": "stdout",
     "output_type": "stream",
     "text": [
      "Image: image_empty_39.jpg\n"
     ]
    },
    {
     "data": {
      "image/png": "[encoded data removed]",
      "text/plain": [
       "<Figure size 640x480 with 1 Axes>"
      ]
     },
     "metadata": {},
     "output_type": "display_data"
    }
   ],
   "source": [
    "# process\n",
    "\n",
    "folder_path = 'white_background_images'\n",
    "\n",
    "process_images_in_folder(folder_path)"
   ]
  },
  {
   "cell_type": "code",
   "execution_count": null,
   "metadata": {},
   "outputs": [],
   "source": []
  }
 ],
 "metadata": {
  "kernelspec": {
   "display_name": ".venv",
   "language": "python",
   "name": "python3"
  },
  "language_info": {
   "codemirror_mode": {
    "name": "ipython",
    "version": 3
   },
   "file_extension": ".py",
   "mimetype": "text/x-python",
   "name": "python",
   "nbconvert_exporter": "python",
   "pygments_lexer": "ipython3",
   "version": "3.12.3"
  }
 },
 "nbformat": 4,
 "nbformat_minor": 2
}
